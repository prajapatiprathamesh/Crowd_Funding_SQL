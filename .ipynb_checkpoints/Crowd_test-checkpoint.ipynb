{
 "cells": [
  {
   "cell_type": "code",
   "execution_count": null,
   "id": "82f1d4f2-2ca3-41c6-a53e-6ebaa32bf3b3",
   "metadata": {},
   "outputs": [],
   "source": [
    "import pandas as pd\n",
    "import mysql.connector"
   ]
  },
  {
   "cell_type": "code",
   "execution_count": null,
   "id": "e04bafe8-3251-4d7a-8976-7b408e0c9025",
   "metadata": {},
   "outputs": [],
   "source": [
    "df = pd.read_csv('Crowdfunding_projects.csv')\n",
    "df.head()"
   ]
  },
  {
   "cell_type": "code",
   "execution_count": null,
   "id": "54a7bb8b-7df9-4443-8822-a87e0d60e05a",
   "metadata": {},
   "outputs": [],
   "source": [
    "df.isna().sum()"
   ]
  },
  {
   "cell_type": "code",
   "execution_count": null,
   "id": "81a1ee81-3db6-4dd7-a3b6-e3a40874b0c5",
   "metadata": {},
   "outputs": [],
   "source": [
    "if df is not None:\n",
    "    print(df.head())  \n",
    "\n",
    "   \n",
    "    df['location_id'] = df['location_id'].fillna(0)  \n",
    "    \n",
    "    print(f\"NaN values in 'location_id' column: {df['location_id'].isna().sum()}\")\n",
    "    data_tuples = [tuple(x) for x in df.to_numpy()]\n",
    "    \n",
    "    conn = mysql.connector.connect(\n",
    "        host=\"localhost\",        \n",
    "        user=\"root\",    \n",
    "        password=\"Praja@2021\",\n",
    "        database=\"crowd_test\" \n",
    "    )\n",
    "\n",
    "    cursor = conn.cursor()\n",
    "    \n",
    "    insert_query = '''\n",
    "    INSERT INTO projects (ProjectID, state, country, creator_id, location_id, category_id, goal, pledged, currency, usd_pledged, backers_count, calendar_id)\n",
    "    VALUES (%s, %s, %s, %s, %s, %s, %s, %s, %s, %s, %s, %s)\n",
    "    '''\n",
    "    \n",
    "    batch_size = 10000\n",
    "    for i in range(0, len(data_tuples), batch_size):\n",
    "        cursor.executemany(insert_query, data_tuples[i:i+batch_size])\n",
    "        conn.commit()  \n",
    "        \n",
    "    cursor.close()\n",
    "    conn.close()\n",
    "\n",
    "    print(\"Data inserted successfully!\")\n",
    "else:\n",
    "    print(\"Error: DataFrame is None. Check the file path or the content of the CSV.\")\n"
   ]
  },
  {
   "cell_type": "code",
   "execution_count": null,
   "id": "a566cdf1-d3a5-4726-8ce4-ace824a1b096",
   "metadata": {},
   "outputs": [],
   "source": []
  }
 ],
 "metadata": {
  "kernelspec": {
   "display_name": "Python 3 (ipykernel)",
   "language": "python",
   "name": "python3"
  },
  "language_info": {
   "codemirror_mode": {
    "name": "ipython",
    "version": 3
   },
   "file_extension": ".py",
   "mimetype": "text/x-python",
   "name": "python",
   "nbconvert_exporter": "python",
   "pygments_lexer": "ipython3",
   "version": "3.12.3"
  }
 },
 "nbformat": 4,
 "nbformat_minor": 5
}
